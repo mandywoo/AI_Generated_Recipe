{
 "cells": [
  {
   "cell_type": "code",
   "execution_count": 1,
   "id": "331afd52",
   "metadata": {},
   "outputs": [],
   "source": [
    "import pandas as pd"
   ]
  },
  {
   "cell_type": "code",
   "execution_count": 2,
   "id": "6ee8fd4e",
   "metadata": {},
   "outputs": [],
   "source": [
    "df = pd.read_json('meals.json', orient='records')"
   ]
  },
  {
   "cell_type": "code",
   "execution_count": 4,
   "id": "23436bf9",
   "metadata": {},
   "outputs": [
    {
     "data": {
      "text/html": [
       "<div>\n",
       "<style scoped>\n",
       "    .dataframe tbody tr th:only-of-type {\n",
       "        vertical-align: middle;\n",
       "    }\n",
       "\n",
       "    .dataframe tbody tr th {\n",
       "        vertical-align: top;\n",
       "    }\n",
       "\n",
       "    .dataframe thead th {\n",
       "        text-align: right;\n",
       "    }\n",
       "</style>\n",
       "<table border=\"1\" class=\"dataframe\">\n",
       "  <thead>\n",
       "    <tr style=\"text-align: right;\">\n",
       "      <th></th>\n",
       "      <th>ingredients</th>\n",
       "      <th>instructions</th>\n",
       "    </tr>\n",
       "  </thead>\n",
       "  <tbody>\n",
       "    <tr>\n",
       "      <th>0</th>\n",
       "      <td>1kg Beef\\n2 tbs Plain Flour\\n2 tbs Rapeseed Oi...</td>\n",
       "      <td>Preheat the oven to 150C/300F/Gas 2.\\nToss the...</td>\n",
       "    </tr>\n",
       "    <tr>\n",
       "      <th>1</th>\n",
       "      <td>900g Beef\\n3 tbs Olive Oil\\n3 Shallots\\n2 clov...</td>\n",
       "      <td>Season the beef cubes with salt and black pepp...</td>\n",
       "    </tr>\n",
       "    <tr>\n",
       "      <th>2</th>\n",
       "      <td>White Rice\\n1 Onion\\n1 Lime\\n3 Garlic Clove\\n1...</td>\n",
       "      <td>Add'l ingredients: mayonnaise, siracha\\n\\n1\\n\\...</td>\n",
       "    </tr>\n",
       "    <tr>\n",
       "      <th>3</th>\n",
       "      <td>3 tsp Goose Fat\\n600g Beef Shin\\n100g  Bacon\\n...</td>\n",
       "      <td>Heat a large casserole pan and add 1 tbsp goos...</td>\n",
       "    </tr>\n",
       "    <tr>\n",
       "      <th>4</th>\n",
       "      <td>4-5 pound Beef Brisket\\nDash Salt\\n3 Onion\\n5 ...</td>\n",
       "      <td>1 Prepare the brisket for cooking: On one side...</td>\n",
       "    </tr>\n",
       "    <tr>\n",
       "      <th>...</th>\n",
       "      <td>...</td>\n",
       "      <td>...</td>\n",
       "    </tr>\n",
       "    <tr>\n",
       "      <th>278</th>\n",
       "      <td>4 Sausages\\n4 Bacon\\n4 Mushrooms\\n3 Tomatoes\\n...</td>\n",
       "      <td>Heat the flat grill plate over a low heat, on ...</td>\n",
       "    </tr>\n",
       "    <tr>\n",
       "      <th>279</th>\n",
       "      <td>750g Self-raising Flour\\n6 tablespoons Sugar\\n...</td>\n",
       "      <td>This is one recipe a lot of people have reques...</td>\n",
       "    </tr>\n",
       "    <tr>\n",
       "      <th>280</th>\n",
       "      <td>4 Eggs\\n2 tbs White Wine Vinegar\\n2 English Mu...</td>\n",
       "      <td>First make the Hollandaise sauce. Put the lemo...</td>\n",
       "    </tr>\n",
       "    <tr>\n",
       "      <th>281</th>\n",
       "      <td>50g Butter\\n1 chopped Onion\\n3 Pods Cardamom\\n...</td>\n",
       "      <td>Melt 50g butter in a large saucepan (about 20c...</td>\n",
       "    </tr>\n",
       "    <tr>\n",
       "      <th>282</th>\n",
       "      <td>1 kg Goat Meat\\n1 kg Corn Flour\\n2 Tomatoes\\nP...</td>\n",
       "      <td>1. Steps for the Meat: \\n Roast meat over medi...</td>\n",
       "    </tr>\n",
       "  </tbody>\n",
       "</table>\n",
       "<p>283 rows × 2 columns</p>\n",
       "</div>"
      ],
      "text/plain": [
       "                                           ingredients  \\\n",
       "0    1kg Beef\\n2 tbs Plain Flour\\n2 tbs Rapeseed Oi...   \n",
       "1    900g Beef\\n3 tbs Olive Oil\\n3 Shallots\\n2 clov...   \n",
       "2    White Rice\\n1 Onion\\n1 Lime\\n3 Garlic Clove\\n1...   \n",
       "3    3 tsp Goose Fat\\n600g Beef Shin\\n100g  Bacon\\n...   \n",
       "4    4-5 pound Beef Brisket\\nDash Salt\\n3 Onion\\n5 ...   \n",
       "..                                                 ...   \n",
       "278  4 Sausages\\n4 Bacon\\n4 Mushrooms\\n3 Tomatoes\\n...   \n",
       "279  750g Self-raising Flour\\n6 tablespoons Sugar\\n...   \n",
       "280  4 Eggs\\n2 tbs White Wine Vinegar\\n2 English Mu...   \n",
       "281  50g Butter\\n1 chopped Onion\\n3 Pods Cardamom\\n...   \n",
       "282  1 kg Goat Meat\\n1 kg Corn Flour\\n2 Tomatoes\\nP...   \n",
       "\n",
       "                                          instructions  \n",
       "0    Preheat the oven to 150C/300F/Gas 2.\\nToss the...  \n",
       "1    Season the beef cubes with salt and black pepp...  \n",
       "2    Add'l ingredients: mayonnaise, siracha\\n\\n1\\n\\...  \n",
       "3    Heat a large casserole pan and add 1 tbsp goos...  \n",
       "4    1 Prepare the brisket for cooking: On one side...  \n",
       "..                                                 ...  \n",
       "278  Heat the flat grill plate over a low heat, on ...  \n",
       "279  This is one recipe a lot of people have reques...  \n",
       "280  First make the Hollandaise sauce. Put the lemo...  \n",
       "281  Melt 50g butter in a large saucepan (about 20c...  \n",
       "282  1. Steps for the Meat: \\n Roast meat over medi...  \n",
       "\n",
       "[283 rows x 2 columns]"
      ]
     },
     "execution_count": 4,
     "metadata": {},
     "output_type": "execute_result"
    }
   ],
   "source": [
    "df = df[['ingredients', 'instructions']]\n",
    "df"
   ]
  },
  {
   "cell_type": "code",
   "execution_count": null,
   "id": "49c8f5ca",
   "metadata": {},
   "outputs": [],
   "source": []
  }
 ],
 "metadata": {
  "kernelspec": {
   "display_name": "Python 3 (ipykernel)",
   "language": "python",
   "name": "python3"
  },
  "language_info": {
   "codemirror_mode": {
    "name": "ipython",
    "version": 3
   },
   "file_extension": ".py",
   "mimetype": "text/x-python",
   "name": "python",
   "nbconvert_exporter": "python",
   "pygments_lexer": "ipython3",
   "version": "3.9.7"
  }
 },
 "nbformat": 4,
 "nbformat_minor": 5
}
